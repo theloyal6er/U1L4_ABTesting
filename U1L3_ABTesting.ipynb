{
 "cells": [
  {
   "cell_type": "markdown",
   "metadata": {},
   "source": [
    "### Unit 1 Lesson 4 - Experimental Design: A/B Testing\n",
    "\n",
    "1) Does a new supplement help people sleep better?\n",
    "\n",
    "To test a new supplement's effectiveness, it would be important to split the same populations of people during your test into two similar groups with similar randomness of demographic and health. You would possibly create a placebo supplement with one group as your control group and test the other group with that supplement to compare the outcomes of both groups, hoping to gage the aim of what the supplement functionally does. Tracking the sleep patterns of those on or off the supplement can be gauged through how you properly define \"better sleep\" - is it more REM cycles? Quicker time to fall asleep? Waking up less groggy?\n",
    "\n",
    "2) Will new uniforms help a gym's business?\n",
    "\n",
    "With new uniforms, you would try to sample similar populations - maybe even the same gym staff - with its correlation to success of the gym itself. You would most likely try to test the uniforms for an extended period of time to see if it improves profitability, gym member turnouts, and new member sign up. Other variables like the demographic of people who see the new uniforms is important to consider - especially with first time members. Gaging metrics of profitability and the success of the gym, quantifiably, would be the best way to understand whether the new uniforms had a positive or negative effect.\n",
    "\n",
    "3) Will a new homepage improve my online exotic pet rental business?\n",
    "\n",
    "With a new homepage, you can do AB testing to see how website traffic increases before and after the homepage is implemented. Since the demographic of website users won't be tracked, you can analyze clickthrough rates after the homepage is implemented, seeing how the new home page allows better traffic and more website use overall. Your primary objective, to improve website traffic, is most likely best understood by a user's time spent on the website improving (longer time) - tracking this through timestamps of users on the website, also with total number of clicks per user before/after the new homepage may help track this AB test.\n",
    "\n",
    "4) If I put 'please read' in the email subject will more people read my emails?\n",
    "\n",
    "With AB testing, your objective is to see if emails will be read more if they have a certain subject heading. You can send the emails out to two sample populations to see if this target can be achieved but ultimately, you can also see if emails are also being logged as spam messages (or being auto-deleted) depending on the subject line change. If you were to create a mechanism where you were able to see if emails were being read - as a read-receipt - you can understand this test better."
   ]
  },
  {
   "cell_type": "code",
   "execution_count": null,
   "metadata": {},
   "outputs": [],
   "source": []
  }
 ],
 "metadata": {
  "kernelspec": {
   "display_name": "Python 3",
   "language": "python",
   "name": "python3"
  },
  "language_info": {
   "codemirror_mode": {
    "name": "ipython",
    "version": 3
   },
   "file_extension": ".py",
   "mimetype": "text/x-python",
   "name": "python",
   "nbconvert_exporter": "python",
   "pygments_lexer": "ipython3",
   "version": "3.7.0"
  }
 },
 "nbformat": 4,
 "nbformat_minor": 2
}
